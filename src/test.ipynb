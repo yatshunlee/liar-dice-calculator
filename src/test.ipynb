{
 "cells": [
  {
   "cell_type": "code",
   "execution_count": 1,
   "id": "1353be39",
   "metadata": {},
   "outputs": [],
   "source": [
    "import seaborn as sns\n",
    "from liar_dice_calculator.core import LiarDiceCalculator\n",
    "from liar_dice_calculator.visualization import plot_heatmap"
   ]
  },
  {
   "cell_type": "code",
   "execution_count": 2,
   "id": "d877d91e",
   "metadata": {},
   "outputs": [],
   "source": [
    "calculator = LiarDiceCalculator()"
   ]
  },
  {
   "cell_type": "code",
   "execution_count": 3,
   "id": "2d86c6f8",
   "metadata": {},
   "outputs": [],
   "source": [
    "n_players = 2\n",
    "is_wild = True\n",
    "player_dices = {\n",
    "    1: 2,\n",
    "    2: 1,\n",
    "    5: 2\n",
    "}\n",
    "degree_of_belief = 1"
   ]
  },
  {
   "cell_type": "code",
   "execution_count": 4,
   "id": "61f1b8e4",
   "metadata": {},
   "outputs": [],
   "source": [
    "heatmap = calculator.predict(n_players, is_wild, player_dices, degree_of_belief)"
   ]
  },
  {
   "cell_type": "code",
   "execution_count": 5,
   "id": "32989b98",
   "metadata": {},
   "outputs": [],
   "source": [
    "import pandas as pd"
   ]
  },
  {
   "cell_type": "code",
   "execution_count": 6,
   "id": "d03621b2",
   "metadata": {},
   "outputs": [],
   "source": [
    "df = pd.DataFrame(heatmap)"
   ]
  },
  {
   "cell_type": "code",
   "execution_count": 10,
   "id": "efa0a6ca",
   "metadata": {},
   "outputs": [],
   "source": [
    "df = df.T[::-1]"
   ]
  },
  {
   "cell_type": "code",
   "execution_count": null,
   "id": "a9cc8c6b",
   "metadata": {},
   "outputs": [
    {
     "data": {
      "text/html": [
       "<div>\n",
       "<style scoped>\n",
       "    .dataframe tbody tr th:only-of-type {\n",
       "        vertical-align: middle;\n",
       "    }\n",
       "\n",
       "    .dataframe tbody tr th {\n",
       "        vertical-align: top;\n",
       "    }\n",
       "\n",
       "    .dataframe thead th {\n",
       "        text-align: right;\n",
       "    }\n",
       "</style>\n",
       "<table border=\"1\" class=\"dataframe\">\n",
       "  <thead>\n",
       "    <tr style=\"text-align: right;\">\n",
       "      <th></th>\n",
       "      <th>0</th>\n",
       "      <th>1</th>\n",
       "      <th>2</th>\n",
       "      <th>3</th>\n",
       "      <th>4</th>\n",
       "    </tr>\n",
       "  </thead>\n",
       "  <tbody>\n",
       "    <tr>\n",
       "      <th>8</th>\n",
       "      <td>NaN</td>\n",
       "      <td>NaN</td>\n",
       "      <td>NaN</td>\n",
       "      <td>0.052133</td>\n",
       "      <td>NaN</td>\n",
       "    </tr>\n",
       "    <tr>\n",
       "      <th>7</th>\n",
       "      <td>0.052133</td>\n",
       "      <td>NaN</td>\n",
       "      <td>NaN</td>\n",
       "      <td>0.241706</td>\n",
       "      <td>NaN</td>\n",
       "    </tr>\n",
       "    <tr>\n",
       "      <th>6</th>\n",
       "      <td>0.241706</td>\n",
       "      <td>0.052133</td>\n",
       "      <td>0.052133</td>\n",
       "      <td>0.620853</td>\n",
       "      <td>0.052133</td>\n",
       "    </tr>\n",
       "    <tr>\n",
       "      <th>5</th>\n",
       "      <td>0.620853</td>\n",
       "      <td>0.241706</td>\n",
       "      <td>0.241706</td>\n",
       "      <td>1.000000</td>\n",
       "      <td>0.241706</td>\n",
       "    </tr>\n",
       "    <tr>\n",
       "      <th>4</th>\n",
       "      <td>1.000000</td>\n",
       "      <td>0.620853</td>\n",
       "      <td>0.620853</td>\n",
       "      <td>1.000000</td>\n",
       "      <td>0.620853</td>\n",
       "    </tr>\n",
       "    <tr>\n",
       "      <th>3</th>\n",
       "      <td>1.000000</td>\n",
       "      <td>1.000000</td>\n",
       "      <td>1.000000</td>\n",
       "      <td>1.000000</td>\n",
       "      <td>1.000000</td>\n",
       "    </tr>\n",
       "    <tr>\n",
       "      <th>2</th>\n",
       "      <td>1.000000</td>\n",
       "      <td>1.000000</td>\n",
       "      <td>1.000000</td>\n",
       "      <td>1.000000</td>\n",
       "      <td>1.000000</td>\n",
       "    </tr>\n",
       "    <tr>\n",
       "      <th>1</th>\n",
       "      <td>1.000000</td>\n",
       "      <td>1.000000</td>\n",
       "      <td>1.000000</td>\n",
       "      <td>1.000000</td>\n",
       "      <td>1.000000</td>\n",
       "    </tr>\n",
       "    <tr>\n",
       "      <th>0</th>\n",
       "      <td>1.000000</td>\n",
       "      <td>1.000000</td>\n",
       "      <td>1.000000</td>\n",
       "      <td>1.000000</td>\n",
       "      <td>1.000000</td>\n",
       "    </tr>\n",
       "  </tbody>\n",
       "</table>\n",
       "</div>"
      ],
      "text/plain": [
       "          0         1         2         3         4\n",
       "8       NaN       NaN       NaN  0.052133       NaN\n",
       "7  0.052133       NaN       NaN  0.241706       NaN\n",
       "6  0.241706  0.052133  0.052133  0.620853  0.052133\n",
       "5  0.620853  0.241706  0.241706  1.000000  0.241706\n",
       "4  1.000000  0.620853  0.620853  1.000000  0.620853\n",
       "3  1.000000  1.000000  1.000000  1.000000  1.000000\n",
       "2  1.000000  1.000000  1.000000  1.000000  1.000000\n",
       "1  1.000000  1.000000  1.000000  1.000000  1.000000\n",
       "0  1.000000  1.000000  1.000000  1.000000  1.000000"
      ]
     },
     "execution_count": 15,
     "metadata": {},
     "output_type": "execute_result"
    }
   ],
   "source": [
    "df[df > 0.01].dropna(axis=0, how='all')"
   ]
  },
  {
   "cell_type": "code",
   "execution_count": 16,
   "id": "44a99dd1",
   "metadata": {},
   "outputs": [],
   "source": [
    "dice_face_values = {\n",
    "        i: \"⚀⚁⚂⚃⚄⚅\"[i]for i in range(6)\n",
    "    }"
   ]
  },
  {
   "cell_type": "code",
   "execution_count": 17,
   "id": "80a42036",
   "metadata": {},
   "outputs": [
    {
     "data": {
      "text/plain": [
       "'⚀'"
      ]
     },
     "execution_count": 17,
     "metadata": {},
     "output_type": "execute_result"
    }
   ],
   "source": [
    "dice_face_values[0]"
   ]
  },
  {
   "cell_type": "code",
   "execution_count": null,
   "id": "63d262cd",
   "metadata": {},
   "outputs": [],
   "source": [
    "plot_heatmap(heatmap)"
   ]
  },
  {
   "cell_type": "code",
   "execution_count": null,
   "id": "caee710e",
   "metadata": {},
   "outputs": [],
   "source": []
  },
  {
   "cell_type": "code",
   "execution_count": null,
   "id": "6e6b952f",
   "metadata": {},
   "outputs": [],
   "source": []
  }
 ],
 "metadata": {
  "kernelspec": {
   "display_name": "liar-dice-calculator",
   "language": "python",
   "name": "liar-dice-calculator"
  },
  "language_info": {
   "codemirror_mode": {
    "name": "ipython",
    "version": 3
   },
   "file_extension": ".py",
   "mimetype": "text/x-python",
   "name": "python",
   "nbconvert_exporter": "python",
   "pygments_lexer": "ipython3",
   "version": "3.13.3"
  }
 },
 "nbformat": 4,
 "nbformat_minor": 5
}
